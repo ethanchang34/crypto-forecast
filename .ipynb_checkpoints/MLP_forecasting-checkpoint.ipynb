{
 "cells": [
  {
   "cell_type": "code",
   "execution_count": 3,
   "id": "8fcab95f-2d37-4cdf-8511-0029b87f0061",
   "metadata": {},
   "outputs": [],
   "source": [
    "# Imports\n",
    "import random\n",
    "\n",
    "import torch\n",
    "import numpy as np\n",
    "import matplotlib.pyplot as plt\n",
    "import pandas as pd\n",
    "\n",
    "import torch.nn as nn\n",
    "import torch.optim as optim\n",
    "from tqdm.auto import tqdm\n",
    "from IPython.display import display\n",
    "from torch.utils.data import DataLoader, TensorDataset\n",
    "\n",
    "# Figure settings\n",
    "import logging\n",
    "logging.getLogger('matplotlib.font_manager').disabled = True\n",
    "\n",
    "import ipywidgets as widgets  # Interactive display\n",
    "%config InlineBackend.figure_format = 'retina'\n",
    "\n",
    "# For progress bars\n",
    "from tqdm.notebook import tqdm\n",
    "\n",
    "#-- Utilizing the specific project modules --#\n",
    "\n",
    "# Appending our path so we can use our 'src' modules:\n",
    "import sys\n",
    "sys.path.append('/Users/johnbuggeln/Desktop/crypto-forecast/src')\n",
    "import pytorch_helpers as th"
   ]
  },
  {
   "cell_type": "code",
   "execution_count": null,
   "id": "57a2ff88-9de4-4501-a49e-0312c06bc2db",
   "metadata": {},
   "outputs": [],
   "source": []
  }
 ],
 "metadata": {
  "kernelspec": {
   "display_name": "Python3.10 (MLenv)",
   "language": "python",
   "name": "mlenv"
  },
  "language_info": {
   "codemirror_mode": {
    "name": "ipython",
    "version": 3
   },
   "file_extension": ".py",
   "mimetype": "text/x-python",
   "name": "python",
   "nbconvert_exporter": "python",
   "pygments_lexer": "ipython3",
   "version": "3.10.12"
  }
 },
 "nbformat": 4,
 "nbformat_minor": 5
}
